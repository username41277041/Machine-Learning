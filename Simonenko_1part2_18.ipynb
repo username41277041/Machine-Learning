{
  "nbformat": 4,
  "nbformat_minor": 0,
  "metadata": {
    "colab": {
      "provenance": []
    },
    "kernelspec": {
      "name": "python3",
      "display_name": "Python 3"
    },
    "language_info": {
      "name": "python"
    }
  },
  "cells": [
    {
      "cell_type": "code",
      "execution_count": 1,
      "metadata": {
        "id": "XvjKBzWoNvOK"
      },
      "outputs": [],
      "source": [
        "import numpy as np"
      ]
    },
    {
      "cell_type": "code",
      "source": [
        "import numpy as np\n",
        "\n",
        "# Завдання 1.\n",
        "# Умова:\n",
        "# \"Задати вектор, що складається з перших п’яти натуральних чисел.\"\n",
        "\n",
        "vector = np.array([1, 2, 3, 4, 5])\n",
        "\n",
        "vector"
      ],
      "metadata": {
        "colab": {
          "base_uri": "https://localhost:8080/"
        },
        "id": "NR9EV-0DOnop",
        "outputId": "afb87299-8527-45ca-f6bd-90a9aac9ad26"
      },
      "execution_count": 5,
      "outputs": [
        {
          "output_type": "execute_result",
          "data": {
            "text/plain": [
              "array([1, 2, 3, 4, 5])"
            ]
          },
          "metadata": {},
          "execution_count": 5
        }
      ]
    },
    {
      "cell_type": "code",
      "source": [
        "# Завдання 2.\n",
        "# Умова:\n",
        "# \"Транспонувати вектор.\"\n",
        "\n",
        "v1 = np.matrix([1, 2, 3, 4, 5])\n",
        "\n",
        "print(v1)\n",
        "v2 = v1.T\n",
        "v2"
      ],
      "metadata": {
        "colab": {
          "base_uri": "https://localhost:8080/"
        },
        "id": "5Fnv-ygBOheo",
        "outputId": "4751e6eb-bb73-4e8b-becd-0279a9123e49"
      },
      "execution_count": 4,
      "outputs": [
        {
          "output_type": "stream",
          "name": "stdout",
          "text": [
            "[[1 2 3 4 5]]\n"
          ]
        },
        {
          "output_type": "execute_result",
          "data": {
            "text/plain": [
              "matrix([[1],\n",
              "        [2],\n",
              "        [3],\n",
              "        [4],\n",
              "        [5]])"
            ]
          },
          "metadata": {},
          "execution_count": 4
        }
      ]
    },
    {
      "cell_type": "code",
      "source": [
        "# Завдання 3.\n",
        "# Умова:\n",
        "# \"Напишіть функцію, яка перевертає вектор у зворотному порядку.\"\n",
        "\n",
        "v = np.array([1, 2, 3, 4, 5])\n",
        "\n",
        "print(v[::-1])"
      ],
      "metadata": {
        "colab": {
          "base_uri": "https://localhost:8080/"
        },
        "id": "oTzfr8K2OprO",
        "outputId": "d5023831-1077-4573-f407-b8a9cc8c577c"
      },
      "execution_count": 6,
      "outputs": [
        {
          "output_type": "stream",
          "name": "stdout",
          "text": [
            "[5 4 3 2 1]\n"
          ]
        }
      ]
    },
    {
      "cell_type": "code",
      "source": [
        "# Завдання 4.\n",
        "# Умова:\n",
        "# \"Обчислити середнє значення вектора.\"\n",
        "\n",
        "print(np.mean(v))"
      ],
      "metadata": {
        "colab": {
          "base_uri": "https://localhost:8080/"
        },
        "id": "-ODUsGpMO_Dk",
        "outputId": "cd4ba06a-9edb-451b-9ff9-3823a7bd724d"
      },
      "execution_count": 7,
      "outputs": [
        {
          "output_type": "stream",
          "name": "stdout",
          "text": [
            "3.0\n"
          ]
        }
      ]
    },
    {
      "cell_type": "code",
      "source": [
        "# Завдання 5.\n",
        "# Умова:\n",
        "# \"Знайти найбільший і найменший елементи вектора.\"\n",
        "\n",
        "print(np.max(v))\n",
        "print(np.min(v))"
      ],
      "metadata": {
        "colab": {
          "base_uri": "https://localhost:8080/"
        },
        "id": "MSDLbvd_PTGd",
        "outputId": "88129e7c-20a9-4d8f-cf49-5c857d3f13fe"
      },
      "execution_count": 8,
      "outputs": [
        {
          "output_type": "stream",
          "name": "stdout",
          "text": [
            "5\n",
            "1\n"
          ]
        }
      ]
    },
    {
      "cell_type": "code",
      "source": [
        "# Завдання 6.\n",
        "# Умова:\n",
        "# \"Обчислити скалярний добуток (dot product) двох векторів.\"\n",
        "\n",
        "v1 = np.array([1, 2, 3])\n",
        "v2 = np.array([4, 5, 6])\n",
        "\n",
        "print(np.dot(v1, v2))\n",
        "print(v1 * v2)"
      ],
      "metadata": {
        "colab": {
          "base_uri": "https://localhost:8080/"
        },
        "id": "mr6FKj4aPZOL",
        "outputId": "2873a453-c461-4ae7-93f6-986a8bb27fc6"
      },
      "execution_count": 9,
      "outputs": [
        {
          "output_type": "stream",
          "name": "stdout",
          "text": [
            "32\n",
            "[ 4 10 18]\n"
          ]
        }
      ]
    },
    {
      "cell_type": "code",
      "source": [
        "# Завдання 7.\n",
        "# Умова:\n",
        "# \"Напишіть функцію, яка нормалізує вектор (зводить до одиничної довжини).\"\n",
        "\n",
        "v = np.array([1, 2, 3, 4, 5])\n",
        "norm = np.linalg.norm(v)\n",
        "\n",
        "print(norm)\n",
        "\n",
        "v / norm"
      ],
      "metadata": {
        "colab": {
          "base_uri": "https://localhost:8080/"
        },
        "id": "Ov9v3EdRPqlD",
        "outputId": "c3a050d3-81a7-4651-a67d-09badbdb73c1"
      },
      "execution_count": 10,
      "outputs": [
        {
          "output_type": "stream",
          "name": "stdout",
          "text": [
            "7.416198487095663\n"
          ]
        },
        {
          "output_type": "execute_result",
          "data": {
            "text/plain": [
              "array([0.13483997, 0.26967994, 0.40451992, 0.53935989, 0.67419986])"
            ]
          },
          "metadata": {},
          "execution_count": 10
        }
      ]
    },
    {
      "cell_type": "code",
      "source": [
        "# Завдання 8.\n",
        "# Умова:\n",
        "# \"Задайте два вектори. Визначте, чи є вони ортогональними.\n",
        "#  Підказка: якщо скалярний добуток дорівнює нулю, вектори ортогональні.\"\n",
        "\n",
        "v1 = np.array([1, 0, 0])\n",
        "v2 = np.array([0, 1, 0])\n",
        "\n",
        "np.dot(v1, v2)"
      ],
      "metadata": {
        "colab": {
          "base_uri": "https://localhost:8080/"
        },
        "id": "q1FXBA-OP20D",
        "outputId": "55ffcef2-8f5c-415b-ee9a-99718a6a60ca"
      },
      "execution_count": 11,
      "outputs": [
        {
          "output_type": "execute_result",
          "data": {
            "text/plain": [
              "np.int64(0)"
            ]
          },
          "metadata": {},
          "execution_count": 11
        }
      ]
    },
    {
      "cell_type": "code",
      "source": [
        "import numpy as np\n",
        "\n",
        "# Завдання 9.\n",
        "# Умова:\n",
        "# \"Визначити унікальні елементи вектора.\"\n",
        "\n",
        "v = np.array([1, 2, 3, 2, 4, 5, 3])\n",
        "\n",
        "np.unique(v)"
      ],
      "metadata": {
        "colab": {
          "base_uri": "https://localhost:8080/"
        },
        "id": "A4Kw30zQP4xP",
        "outputId": "937181e6-c577-4460-f3e8-d67cb2f84905"
      },
      "execution_count": 12,
      "outputs": [
        {
          "output_type": "execute_result",
          "data": {
            "text/plain": [
              "array([1, 2, 3, 4, 5])"
            ]
          },
          "metadata": {},
          "execution_count": 12
        }
      ]
    },
    {
      "cell_type": "code",
      "source": [
        "# Завдання 10.\n",
        "# Умова:\n",
        "# \"Знайти вектори.\"\n",
        "\n",
        "v1 = np.array([1, 2, 3])\n",
        "v2 = np.array([4, 5, 6])\n",
        "\n",
        "print(v1 - v2)\n",
        "print(v2 - v1)\n",
        "print(v1 + v2)\n",
        "print(v2 + v1)\n",
        "print(v1 * v2)\n",
        "print(v2 * v1)\n",
        "print(v1 / v2)\n",
        "print(v2 / v1)"
      ],
      "metadata": {
        "colab": {
          "base_uri": "https://localhost:8080/"
        },
        "id": "l_zDRdEmQJcW",
        "outputId": "f73f9cfd-354f-499e-db38-b941b5396890"
      },
      "execution_count": 13,
      "outputs": [
        {
          "output_type": "stream",
          "name": "stdout",
          "text": [
            "[-3 -3 -3]\n",
            "[3 3 3]\n",
            "[5 7 9]\n",
            "[5 7 9]\n",
            "[ 4 10 18]\n",
            "[ 4 10 18]\n",
            "[0.25 0.4  0.5 ]\n",
            "[4.  2.5 2. ]\n"
          ]
        }
      ]
    },
    {
      "cell_type": "code",
      "source": [
        "# Завдання 11.\n",
        "# Умова:\n",
        "# \"Перевірити, чи дорівнює довжина вектора 5.\"\n",
        "\n",
        "vector = np.array([1, 2, 3, 4, 5])\n",
        "length = np.linalg.norm(vector)\n",
        "\n",
        "np.isclose(length, 5)"
      ],
      "metadata": {
        "colab": {
          "base_uri": "https://localhost:8080/"
        },
        "id": "we1QsVxBQYg9",
        "outputId": "88bf57eb-7e23-49e4-8c0d-c80a938ae122"
      },
      "execution_count": 14,
      "outputs": [
        {
          "output_type": "execute_result",
          "data": {
            "text/plain": [
              "np.False_"
            ]
          },
          "metadata": {},
          "execution_count": 14
        }
      ]
    },
    {
      "cell_type": "code",
      "source": [
        "# Завдання 12.\n",
        "# Умова:\n",
        "# \"Задати матрицю, заповнену випадковими числами.\"\n",
        "\n",
        "a = np.random.randint(0, 11, (3, 3))\n",
        "\n",
        "a"
      ],
      "metadata": {
        "colab": {
          "base_uri": "https://localhost:8080/"
        },
        "id": "qQQmPqSnQdQp",
        "outputId": "deebeed7-4146-4208-989d-65e6698570fe"
      },
      "execution_count": 15,
      "outputs": [
        {
          "output_type": "execute_result",
          "data": {
            "text/plain": [
              "array([[2, 2, 1],\n",
              "       [6, 8, 2],\n",
              "       [2, 8, 6]])"
            ]
          },
          "metadata": {},
          "execution_count": 15
        }
      ]
    },
    {
      "cell_type": "code",
      "source": [
        "# Завдання 13.\n",
        "# Умова:\n",
        "# \"Обчислити визначник матриці.\"\n",
        "\n",
        "np.linalg.det(a)"
      ],
      "metadata": {
        "colab": {
          "base_uri": "https://localhost:8080/"
        },
        "id": "Oe2g6jDqRncW",
        "outputId": "f0a16396-ff2b-4be2-882c-d78cf031b695"
      },
      "execution_count": 16,
      "outputs": [
        {
          "output_type": "execute_result",
          "data": {
            "text/plain": [
              "np.float64(31.999999999999986)"
            ]
          },
          "metadata": {},
          "execution_count": 16
        }
      ]
    },
    {
      "cell_type": "code",
      "source": [
        "# Завдання 14.\n",
        "# Умова:\n",
        "# \"Знаходження оберненої матриці.\"\n",
        "\n",
        "np.linalg.inv(a)"
      ],
      "metadata": {
        "colab": {
          "base_uri": "https://localhost:8080/"
        },
        "id": "e1ZyakX-Rpu8",
        "outputId": "2102341f-d584-4f86-dea0-a7cc5d987278"
      },
      "execution_count": 17,
      "outputs": [
        {
          "output_type": "execute_result",
          "data": {
            "text/plain": [
              "array([[ 1.    , -0.125 , -0.125 ],\n",
              "       [-1.    ,  0.3125,  0.0625],\n",
              "       [ 1.    , -0.375 ,  0.125 ]])"
            ]
          },
          "metadata": {},
          "execution_count": 17
        }
      ]
    },
    {
      "cell_type": "code",
      "source": [
        "# Завдання 15.\n",
        "# Умова:\n",
        "# \"Розв’яжіть систему лінійних рівнянь A·x=b, де A – матриця коефіцієнтів,\n",
        "#  b – вектор вільних членів.\"\n",
        "\n",
        "a = np.array([[1, 3, -4], [0, 2, -3], [-2, 2, 5]])\n",
        "b = np.array([5, 3, 4])\n",
        "\n",
        "x = np.linalg.solve(a, b)\n",
        "print(x)\n",
        "\n",
        "inv_a = np.linalg.inv(a)\n",
        "x1 = inv_a.dot(b)\n",
        "print(x1)"
      ],
      "metadata": {
        "colab": {
          "base_uri": "https://localhost:8080/"
        },
        "id": "OUgF8IrjR1n2",
        "outputId": "8943c3fd-7165-46b9-ea93-c87d840fb9d0"
      },
      "execution_count": 18,
      "outputs": [
        {
          "output_type": "stream",
          "name": "stdout",
          "text": [
            "[0.38888889 1.83333333 0.22222222]\n",
            "[0.38888889 1.83333333 0.22222222]\n"
          ]
        }
      ]
    },
    {
      "cell_type": "code",
      "source": [
        "# Завдання 16.\n",
        "# Умова:\n",
        "# \"Множення двох матриць.\"\n",
        "\n",
        "a = np.array([[1, 3, -4], [0, 2, -3], [-2, 2, 5]])\n",
        "b = np.array([5, 3, 4])\n",
        "\n",
        "np.dot(a, b)"
      ],
      "metadata": {
        "colab": {
          "base_uri": "https://localhost:8080/"
        },
        "id": "zDSR6LhfR6cz",
        "outputId": "5f364199-7b64-4361-deaa-386ff92b70d4"
      },
      "execution_count": 19,
      "outputs": [
        {
          "output_type": "execute_result",
          "data": {
            "text/plain": [
              "array([-2, -6, 16])"
            ]
          },
          "metadata": {},
          "execution_count": 19
        }
      ]
    },
    {
      "cell_type": "code",
      "source": [
        "# Завдання 17.\n",
        "# Умова:\n",
        "# \"Транспонування матриці.\"\n",
        "\n",
        "print(a.T)\n",
        "print(b.T)"
      ],
      "metadata": {
        "colab": {
          "base_uri": "https://localhost:8080/"
        },
        "id": "GMMKCmdJSnpm",
        "outputId": "88b4f0ad-b61e-4cdf-cc38-f7dcb85878e2"
      },
      "execution_count": 20,
      "outputs": [
        {
          "output_type": "stream",
          "name": "stdout",
          "text": [
            "[[ 1  0 -2]\n",
            " [ 3  2  2]\n",
            " [-4 -3  5]]\n",
            "[5 3 4]\n"
          ]
        }
      ]
    },
    {
      "cell_type": "code",
      "source": [
        "# Завдання 18.\n",
        "# Умова:\n",
        "# \"Перевірка симетричності матриці.\"\n",
        "\n",
        "matrix = np.matrix([[2, 2, 2], [2, 2, 2], [2, 2, 2]])\n",
        "\n",
        "np.allclose(matrix, matrix.T)"
      ],
      "metadata": {
        "colab": {
          "base_uri": "https://localhost:8080/"
        },
        "id": "7j39uOMjS8L4",
        "outputId": "16b8fb46-d405-41c7-803b-ba1c0f65ad31"
      },
      "execution_count": 21,
      "outputs": [
        {
          "output_type": "execute_result",
          "data": {
            "text/plain": [
              "True"
            ]
          },
          "metadata": {},
          "execution_count": 21
        }
      ]
    },
    {
      "cell_type": "code",
      "source": [
        "# Завдання 19.\n",
        "# Умова:\n",
        "# \"Обчислення сліду матриці.\"\n",
        "\n",
        "np.trace(matrix)"
      ],
      "metadata": {
        "colab": {
          "base_uri": "https://localhost:8080/"
        },
        "id": "5dxhnnMSS-tw",
        "outputId": "03e76ac2-e4d2-42a3-a754-8b74735aa831"
      },
      "execution_count": 22,
      "outputs": [
        {
          "output_type": "execute_result",
          "data": {
            "text/plain": [
              "np.int64(6)"
            ]
          },
          "metadata": {},
          "execution_count": 22
        }
      ]
    },
    {
      "cell_type": "code",
      "source": [
        "# Завдання 20.\n",
        "# Умова:\n",
        "# \"Дії з матрицями.\"\n",
        "\n",
        "a = np.matrix([[1, 2], [3, 4]])\n",
        "b = np.matrix([[5, 6], [7, 8]])\n",
        "\n",
        "print(np.add(a, b))\n",
        "print(np.subtract(a, b))\n",
        "print(np.multiply(a, b))\n",
        "print(np.divide(a, b))"
      ],
      "metadata": {
        "colab": {
          "base_uri": "https://localhost:8080/"
        },
        "id": "XxRLao0NTMax",
        "outputId": "28e320e5-06a5-46d4-fd6d-d3f9723062e8"
      },
      "execution_count": 23,
      "outputs": [
        {
          "output_type": "stream",
          "name": "stdout",
          "text": [
            "[[ 6  8]\n",
            " [10 12]]\n",
            "[[-4 -4]\n",
            " [-4 -4]]\n",
            "[[ 5 12]\n",
            " [21 32]]\n",
            "[[0.2        0.33333333]\n",
            " [0.42857143 0.5       ]]\n"
          ]
        }
      ]
    },
    {
      "cell_type": "code",
      "source": [
        "# Завдання 21.\n",
        "# Умова:\n",
        "# \"Піднесення матриці до ступеня.\"\n",
        "\n",
        "a = np.matrix([[1, 2], [3, 4]])\n",
        "\n",
        "np.linalg.matrix_power(a, 2)"
      ],
      "metadata": {
        "colab": {
          "base_uri": "https://localhost:8080/"
        },
        "id": "n2gdw42xTYQh",
        "outputId": "005369b5-7a60-46b1-9a56-56195f11dae0"
      },
      "execution_count": 24,
      "outputs": [
        {
          "output_type": "execute_result",
          "data": {
            "text/plain": [
              "matrix([[ 7, 10],\n",
              "        [15, 22]])"
            ]
          },
          "metadata": {},
          "execution_count": 24
        }
      ]
    },
    {
      "cell_type": "code",
      "source": [
        "# Завдання 22.\n",
        "# Умова:\n",
        "# \"Сортування рядків або стовпців матриці.\"\n",
        "\n",
        "b = np.matrix([[5, 3, 4], [2, 3, 5], [3, 2, 3]])\n",
        "\n",
        "print(b)\n",
        "print(np.sort(b, axis=0))\n",
        "print(np.sort(b, axis=1))\n",
        "print(np.sort(b, axis=None))"
      ],
      "metadata": {
        "colab": {
          "base_uri": "https://localhost:8080/"
        },
        "id": "z8w2ALYFTkWl",
        "outputId": "b30888e6-bd0a-46c7-90b5-a5ad10426951"
      },
      "execution_count": 25,
      "outputs": [
        {
          "output_type": "stream",
          "name": "stdout",
          "text": [
            "[[5 3 4]\n",
            " [2 3 5]\n",
            " [3 2 3]]\n",
            "[[2 2 3]\n",
            " [3 3 4]\n",
            " [5 3 5]]\n",
            "[[3 4 5]\n",
            " [2 3 5]\n",
            " [2 3 3]]\n",
            "[[2 2 3 3 3 3 4 5 5]]\n"
          ]
        }
      ]
    },
    {
      "cell_type": "code",
      "source": [
        "# Завдання 23.\n",
        "# Умова:\n",
        "# \"Підрахувати суму елементів кожного рядка матриці.\n",
        "#  Відповідь запиши, як вектор-стовпчик.\"\n",
        "\n",
        "row_sums = np.sum(a, axis=1).reshape(-1, 1)\n",
        "\n",
        "print(\"Сума елементів кожного рядка:\")\n",
        "print(row_sums)"
      ],
      "metadata": {
        "colab": {
          "base_uri": "https://localhost:8080/"
        },
        "id": "6pKUs35rT4eE",
        "outputId": "f3d4314f-c756-40a1-994e-7caa5a06b674"
      },
      "execution_count": 27,
      "outputs": [
        {
          "output_type": "stream",
          "name": "stdout",
          "text": [
            "Сума елементів кожного рядка:\n",
            "[[3]\n",
            " [7]]\n"
          ]
        }
      ]
    }
  ]
}