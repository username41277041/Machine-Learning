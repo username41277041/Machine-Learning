{
 "cells": [
  {
   "cell_type": "markdown",
   "id": "1ddf2741",
   "metadata": {},
   "source": [
    "\n",
    "# Лабораторна робота 1 — Варіант 18  \n",
    "**Тема:** Вступ до машинного навчання. Елементи лінійної алгебри.  \n"
   ]
  },
  {
   "cell_type": "code",
   "execution_count": null,
   "id": "24606b91",
   "metadata": {},
   "outputs": [],
   "source": [
    "\n",
    "import numpy as np\n",
    "import math\n",
    "from math import factorial\n",
    "np.set_printoptions(precision=4, suppress=True)\n",
    "\n",
    "def geometric_mean(arr):\n",
    "    arr = np.array(arr, dtype=float).ravel()\n",
    "    if np.any(arr <= 0):\n",
    "        arr = np.where(arr<=0, 1e-12, arr)\n",
    "    return float(np.exp(np.mean(np.log(arr))))\n"
   ]
  },
  {
   "cell_type": "markdown",
   "id": "e5269739",
   "metadata": {},
   "source": [
    "### Завдання 1 \n",
    "**Формулювання:** Створіть одновимірний масив (вектор) з числами, які є кубами натуральних чисел, починаючи з 1, та виведіть його значення."
   ]
  },
  {
   "cell_type": "code",
   "execution_count": 2,
   "id": "c6ab36e0",
   "metadata": {},
   "outputs": [
    {
     "data": {
      "text/plain": [
       "array([   1,    8,   27,   64,  125,  216,  343,  512,  729, 1000])"
      ]
     },
     "execution_count": 2,
     "metadata": {},
     "output_type": "execute_result"
    }
   ],
   "source": [
    "\n",
    "# Завдання 1.18 — куби натуральних чисел (наприклад, перші 10)\n",
    "n = 10\n",
    "cubes = np.array([i**3 for i in range(1, n+1)])\n",
    "cubes\n"
   ]
  },
  {
   "cell_type": "markdown",
   "id": "a32592e6",
   "metadata": {},
   "source": [
    "### Завдання 2\n",
    "**Формулювання:** Створіть матрицю 3x3, заповнену значеннями факторіалів перших натуральних чисел, та виведіть її значення."
   ]
  },
  {
   "cell_type": "code",
   "execution_count": 3,
   "id": "1709e2a9",
   "metadata": {},
   "outputs": [
    {
     "data": {
      "text/plain": [
       "array([[     1,      2,      6],\n",
       "       [    24,    120,    720],\n",
       "       [  5040,  40320, 362880]])"
      ]
     },
     "execution_count": 3,
     "metadata": {},
     "output_type": "execute_result"
    }
   ],
   "source": [
    "\n",
    "# Завдання 2.18 — матриця 3x3 з факторіалами перших 9 натуральних чисел\n",
    "vals = np.array([math.factorial(i) for i in range(1, 10)])\n",
    "mat_2_18 = vals.reshape(3,3)\n",
    "mat_2_18\n"
   ]
  },
  {
   "cell_type": "markdown",
   "id": "83dbb6ec",
   "metadata": {},
   "source": [
    "### Завдання 3\n",
    "**Формулювання:** Створіть масив 3x3 з випадковими цілими числами від -5 до 5 та знайдіть суму модулів кожного рядка."
   ]
  },
  {
   "cell_type": "code",
   "execution_count": 4,
   "id": "2a109ff1",
   "metadata": {},
   "outputs": [
    {
     "data": {
      "text/plain": [
       "(array([[ 4, -1, -3],\n",
       "        [ 2,  4, -2],\n",
       "        [-1, -5,  5]], dtype=int64),\n",
       " array([ 8,  8, 11], dtype=int64))"
      ]
     },
     "execution_count": 4,
     "metadata": {},
     "output_type": "execute_result"
    }
   ],
   "source": [
    "\n",
    "# Завдання 3.18 — сума модулів по кожному рядку\n",
    "rng = np.random.default_rng(18)\n",
    "A = rng.integers(-5, 6, size=(3,3))\n",
    "row_abs_sums = np.sum(np.abs(A), axis=1)\n",
    "A, row_abs_sums\n"
   ]
  },
  {
   "cell_type": "markdown",
   "id": "206f83fc",
   "metadata": {},
   "source": [
    "### Завдання 4\n",
    "**Формулювання:** Створіть масив 3x3 з випадковими дійсними числами в [0,1] та знайдіть середнє геометричне всіх елементів."
   ]
  },
  {
   "cell_type": "code",
   "execution_count": 5,
   "id": "5d98053b",
   "metadata": {},
   "outputs": [
    {
     "data": {
      "text/plain": [
       "(array([[0.3192, 0.9897, 0.2241],\n",
       "        [0.2963, 0.9129, 0.8961],\n",
       "        [0.7215, 0.9401, 0.0576]]),\n",
       " 0.4439800050679794)"
      ]
     },
     "execution_count": 5,
     "metadata": {},
     "output_type": "execute_result"
    }
   ],
   "source": [
    "\n",
    "# Завдання 4.18 — геометричне середнє елементів матриці\n",
    "rng = np.random.default_rng(418)\n",
    "M = rng.random((3,3))\n",
    "gmean = geometric_mean(M)\n",
    "M, gmean\n"
   ]
  },
  {
   "cell_type": "markdown",
   "id": "db359d79",
   "metadata": {},
   "source": [
    "### Завдання 5\n",
    "**Формулювання:** Створіть два одномірні масиви розміром 5 із випадковими дійсними числами в [0,1] та виконайте поелементні +, −, ×."
   ]
  },
  {
   "cell_type": "code",
   "execution_count": 6,
   "id": "b8a4fdd2",
   "metadata": {},
   "outputs": [
    {
     "data": {
      "text/plain": [
       "(array([0.2156, 0.9245, 0.4426, 0.7462, 0.2934]),\n",
       " array([0.2572, 0.8751, 0.5002, 0.9325, 0.8333]),\n",
       " array([0.4729, 1.7996, 0.9427, 1.6788, 1.1267]),\n",
       " array([-0.0416,  0.0494, -0.0576, -0.1863, -0.5398]),\n",
       " array([0.0555, 0.809 , 0.2214, 0.6959, 0.2445]))"
      ]
     },
     "execution_count": 6,
     "metadata": {},
     "output_type": "execute_result"
    }
   ],
   "source": [
    "\n",
    "# Завдання 5.18 — поелементні операції\n",
    "rng = np.random.default_rng(518)\n",
    "a = rng.random(5)\n",
    "b = rng.random(5)\n",
    "add_ab = a + b\n",
    "sub_ab = a - b\n",
    "mul_ab = a * b\n",
    "a, b, add_ab, sub_ab, mul_ab\n"
   ]
  },
  {
   "cell_type": "markdown",
   "id": "add506d5",
   "metadata": {},
   "source": [
    "### Завдання 6\n",
    "**Формулювання:** Створіть дві матриці 3x3 з випадковими цілими числами в діапазоні [1,5] та знайдіть їх добуток."
   ]
  },
  {
   "cell_type": "code",
   "execution_count": 7,
   "id": "a7e0ddeb",
   "metadata": {},
   "outputs": [
    {
     "data": {
      "text/plain": [
       "(array([[1, 3, 4],\n",
       "        [4, 1, 2],\n",
       "        [5, 3, 3]], dtype=int64),\n",
       " array([[5, 4, 3],\n",
       "        [5, 1, 5],\n",
       "        [1, 1, 2]], dtype=int64),\n",
       " array([[24, 11, 26],\n",
       "        [27, 19, 21],\n",
       "        [43, 26, 36]], dtype=int64))"
      ]
     },
     "execution_count": 7,
     "metadata": {},
     "output_type": "execute_result"
    }
   ],
   "source": [
    "\n",
    "# Завдання 6.18 — добуток двох матриць 3x3\n",
    "rng = np.random.default_rng(618)\n",
    "X = rng.integers(1,6,size=(3,3))\n",
    "Y = rng.integers(1,6,size=(3,3))\n",
    "prod_XY = X @ Y\n",
    "X, Y, prod_XY\n"
   ]
  },
  {
   "cell_type": "markdown",
   "id": "3430945c",
   "metadata": {},
   "source": [
    "### Завдання 7\n",
    "**Формулювання:** Створіть матриці 2x3 та 3x2 (цілі [1,5]) та перемножте їх."
   ]
  },
  {
   "cell_type": "code",
   "execution_count": 8,
   "id": "b3d90714",
   "metadata": {},
   "outputs": [
    {
     "data": {
      "text/plain": [
       "(array([[4, 5, 3],\n",
       "        [3, 5, 3]], dtype=int64),\n",
       " array([[3, 5],\n",
       "        [5, 3],\n",
       "        [4, 2]], dtype=int64),\n",
       " array([[49, 41],\n",
       "        [46, 36]], dtype=int64))"
      ]
     },
     "execution_count": 8,
     "metadata": {},
     "output_type": "execute_result"
    }
   ],
   "source": [
    "\n",
    "# Завдання 7.18 — 2x3 @ 3x2\n",
    "rng = np.random.default_rng(718)\n",
    "A = rng.integers(1,6,size=(2,3))\n",
    "B = rng.integers(1,6,size=(3,2))\n",
    "C = A @ B\n",
    "A, B, C\n"
   ]
  },
  {
   "cell_type": "markdown",
   "id": "032b9717",
   "metadata": {},
   "source": [
    "### Завдання 8\n",
    "**Формулювання:** Створіть матрицю 3x3 з випадкових цілих [1,15] та знайдіть її обернену (перегенеруйте, якщо невиродна не вийшла)."
   ]
  },
  {
   "cell_type": "code",
   "execution_count": 9,
   "id": "08cad874",
   "metadata": {},
   "outputs": [
    {
     "data": {
      "text/plain": [
       "(array([[10,  1,  4],\n",
       "        [ 3,  1,  4],\n",
       "        [ 4, 13,  1]], dtype=int64),\n",
       " -356.9999999999999,\n",
       " array([[ 0.1429, -0.1429, -0.    ],\n",
       "        [-0.0364,  0.0168,  0.0784],\n",
       "        [-0.098 ,  0.3529, -0.0196]]))"
      ]
     },
     "execution_count": 9,
     "metadata": {},
     "output_type": "execute_result"
    }
   ],
   "source": [
    "\n",
    "# Завдання 8.18 — обернена матриця 3x3\n",
    "rng = np.random.default_rng(818)\n",
    "while True:\n",
    "    M = rng.integers(1,16,size=(3,3))\n",
    "    det = np.linalg.det(M)\n",
    "    if abs(det) > 1e-8:\n",
    "        Minv = np.linalg.inv(M)\n",
    "        break\n",
    "M, det, Minv\n"
   ]
  },
  {
   "cell_type": "markdown",
   "id": "23706cd0",
   "metadata": {},
   "source": [
    "### Завдання 9\n",
    "**Формулювання:** Створіть матрицю 4x4 з випадкових дійсних чисел у [0,10] та транспонуйте її."
   ]
  },
  {
   "cell_type": "code",
   "execution_count": 10,
   "id": "561bf05e",
   "metadata": {},
   "outputs": [
    {
     "data": {
      "text/plain": [
       "(array([[2.6179, 0.4213, 7.8814, 5.0124],\n",
       "        [2.3537, 9.0605, 5.4505, 3.0631],\n",
       "        [8.3003, 6.8211, 8.7112, 3.8267],\n",
       "        [0.8565, 1.3929, 2.9078, 2.695 ]]),\n",
       " array([[2.6179, 2.3537, 8.3003, 0.8565],\n",
       "        [0.4213, 9.0605, 6.8211, 1.3929],\n",
       "        [7.8814, 5.4505, 8.7112, 2.9078],\n",
       "        [5.0124, 3.0631, 3.8267, 2.695 ]]))"
      ]
     },
     "execution_count": 10,
     "metadata": {},
     "output_type": "execute_result"
    }
   ],
   "source": [
    "\n",
    "# Завдання 9.18 — транспонування 4x4\n",
    "rng = np.random.default_rng(918)\n",
    "M = rng.random((4,4)) * 10.0\n",
    "MT = M.T\n",
    "M, MT\n"
   ]
  },
  {
   "cell_type": "markdown",
   "id": "b89242a2",
   "metadata": {},
   "source": [
    "### Завдання 10\n",
    "**Формулювання:** Матриця 3x4 та вектор 4x1, обидва з дійсних чисел у [0,1]; знайти добуток."
   ]
  },
  {
   "cell_type": "code",
   "execution_count": 11,
   "id": "da0fe78c",
   "metadata": {},
   "outputs": [
    {
     "data": {
      "text/plain": [
       "(array([[0.594 , 0.455 , 0.8715, 0.8144],\n",
       "        [0.5282, 0.6765, 0.2891, 0.5992],\n",
       "        [0.4847, 0.6512, 0.8041, 0.675 ]]),\n",
       " array([[0.0826],\n",
       "        [0.6563],\n",
       "        [0.3229],\n",
       "        [0.363 ]]),\n",
       " array([[0.9247],\n",
       "        [0.7985],\n",
       "        [0.9721]]))"
      ]
     },
     "execution_count": 11,
     "metadata": {},
     "output_type": "execute_result"
    }
   ],
   "source": [
    "\n",
    "# Завдання 10.18 — M(3x4) @ v(4x1)\n",
    "rng = np.random.default_rng(1018)\n",
    "M = rng.random((3,4))\n",
    "v = rng.random((4,1))\n",
    "Mv = M @ v\n",
    "M, v, Mv\n"
   ]
  },
  {
   "cell_type": "markdown",
   "id": "5777e70b",
   "metadata": {},
   "source": [
    "### Завдання 11\n",
    "**Формулювання:** Матриця 2x3 та вектор 3x1, обидва з дійсних чисел у [0,1]; знайти добуток."
   ]
  },
  {
   "cell_type": "code",
   "execution_count": 12,
   "id": "b0f99e96",
   "metadata": {},
   "outputs": [
    {
     "data": {
      "text/plain": [
       "(array([[0.3785, 0.8603, 0.0093],\n",
       "        [0.0095, 0.1241, 0.5976]]),\n",
       " array([[0.6684],\n",
       "        [0.0659],\n",
       "        [0.72  ]]),\n",
       " array([[0.3163],\n",
       "        [0.4448]]))"
      ]
     },
     "execution_count": 12,
     "metadata": {},
     "output_type": "execute_result"
    }
   ],
   "source": [
    "\n",
    "# Завдання 11.18 — A(2x3) @ x(3x1)\n",
    "rng = np.random.default_rng(1118)\n",
    "A = rng.random((2,3))\n",
    "x = rng.random((3,1))\n",
    "Ax = A @ x\n",
    "A, x, Ax\n"
   ]
  },
  {
   "cell_type": "markdown",
   "id": "6da3faa5",
   "metadata": {},
   "source": [
    "### Завдання 12\n",
    "**Формулювання:** Дві матриці 3x3 (цілі [1,10]); знайти суму елементів головної діагоналі кожної (окремо)."
   ]
  },
  {
   "cell_type": "code",
   "execution_count": 13,
   "id": "ed1b6d26",
   "metadata": {},
   "outputs": [
    {
     "data": {
      "text/plain": [
       "(array([[4, 6, 2],\n",
       "        [4, 2, 6],\n",
       "        [9, 6, 8]], dtype=int64),\n",
       " array([[ 5, 10,  8],\n",
       "        [ 9,  7,  3],\n",
       "        [ 3,  5,  8]], dtype=int64),\n",
       " 14,\n",
       " 20)"
      ]
     },
     "execution_count": 13,
     "metadata": {},
     "output_type": "execute_result"
    }
   ],
   "source": [
    "\n",
    "# Завдання 12.18 — сума головної діагоналі для двох матриць\n",
    "rng = np.random.default_rng(1218)\n",
    "A = rng.integers(1,11,size=(3,3))\n",
    "B = rng.integers(1,11,size=(3,3))\n",
    "trace_A = np.trace(A)\n",
    "trace_B = np.trace(B)\n",
    "A, B, trace_A, trace_B\n"
   ]
  },
  {
   "cell_type": "markdown",
   "id": "7f9dddf4",
   "metadata": {},
   "source": [
    "### Завдання 13\n",
    "**Формулювання:** Дві матриці 2x2 з цілими у діапазоні [-5,5]; знайти добуток усіх елементів кожної матриці."
   ]
  },
  {
   "cell_type": "code",
   "execution_count": 14,
   "id": "97fe6614",
   "metadata": {},
   "outputs": [
    {
     "data": {
      "text/plain": [
       "(array([[-3,  5],\n",
       "        [ 0,  0]], dtype=int64),\n",
       " array([[ 0,  0],\n",
       "        [-3,  2]], dtype=int64),\n",
       " 0,\n",
       " 0)"
      ]
     },
     "execution_count": 14,
     "metadata": {},
     "output_type": "execute_result"
    }
   ],
   "source": [
    "\n",
    "# Завдання 13.18 — добуток елементів у 2x2\n",
    "rng = np.random.default_rng(1318)\n",
    "A = rng.integers(-5,6,size=(2,2))\n",
    "B = rng.integers(-5,6,size=(2,2))\n",
    "prod_A = int(np.prod(A))\n",
    "prod_B = int(np.prod(B))\n",
    "A, B, prod_A, prod_B\n"
   ]
  },
  {
   "cell_type": "markdown",
   "id": "0f3850c3",
   "metadata": {},
   "source": [
    "### Завдання 14\n",
    "**Формулювання:** Створіть матрицю 3x3 (цілі [1,10]) та знайдіть найбільший елемент."
   ]
  },
  {
   "cell_type": "code",
   "execution_count": 15,
   "id": "cf19d15b",
   "metadata": {},
   "outputs": [
    {
     "data": {
      "text/plain": [
       "(array([[ 6,  6,  5],\n",
       "        [ 5,  8,  1],\n",
       "        [10, 10,  1]], dtype=int64),\n",
       " 10)"
      ]
     },
     "execution_count": 15,
     "metadata": {},
     "output_type": "execute_result"
    }
   ],
   "source": [
    "\n",
    "# Завдання 14.18 — найбільший елемент\n",
    "rng = np.random.default_rng(1418)\n",
    "M = rng.integers(1,11,size=(3,3))\n",
    "max_elem = int(np.max(M))\n",
    "M, max_elem\n"
   ]
  },
  {
   "cell_type": "markdown",
   "id": "2d49f8f2",
   "metadata": {},
   "source": [
    "### Завдання 15\n",
    "**Формулювання:** Матриця 4x4 (дійсні в [-1,1]); вектор-стовпчик із кількістю від’ємних елементів по кожному рядку."
   ]
  },
  {
   "cell_type": "code",
   "execution_count": 16,
   "id": "e619ee0a",
   "metadata": {},
   "outputs": [
    {
     "data": {
      "text/plain": [
       "(array([[-0.3526,  0.155 , -0.1935, -0.6931],\n",
       "        [-0.2872,  0.4253,  0.7482, -0.9081],\n",
       "        [ 0.8668, -0.1754, -0.2744, -0.4907],\n",
       "        [ 0.4341,  0.3784,  0.2925, -0.1126]]),\n",
       " array([[3],\n",
       "        [2],\n",
       "        [3],\n",
       "        [1]]))"
      ]
     },
     "execution_count": 16,
     "metadata": {},
     "output_type": "execute_result"
    }
   ],
   "source": [
    "\n",
    "# Завдання 15.18 — кількість від'ємних елементів у рядках\n",
    "rng = np.random.default_rng(1518)\n",
    "M = rng.uniform(-1,1,size=(4,4))\n",
    "neg_counts = np.sum(M < 0, axis=1).reshape(-1,1)\n",
    "M, neg_counts\n"
   ]
  }
 ],
 "metadata": {
  "kernelspec": {
   "display_name": "Python 3",
   "language": "python",
   "name": "python3"
  },
  "language_info": {
   "codemirror_mode": {
    "name": "ipython",
    "version": 3
   },
   "file_extension": ".py",
   "mimetype": "text/x-python",
   "name": "python",
   "nbconvert_exporter": "python",
   "pygments_lexer": "ipython3",
   "version": "3.10.7"
  }
 },
 "nbformat": 4,
 "nbformat_minor": 5
}
